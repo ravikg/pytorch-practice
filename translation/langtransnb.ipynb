{
 "cells": [
  {
   "cell_type": "code",
   "execution_count": 1,
   "metadata": {
    "collapsed": true
   },
   "outputs": [],
   "source": [
    "from datautils import readLangData\n",
    "from langclass import Lang\n",
    "from encoderrnn import EncoderRNN\n",
    "from decoderrnn import DecoderRNN\n",
    "from decoderrnnattn import AttnDecoderRNN\n",
    "from trainutils import trainIters\n",
    "from evaluateutils import evaluateRandomly\n",
    "from trainattnutils import trainItersAttn\n",
    "from evaluateattnutils import evaluateRandomlyAttn\n"
   ]
  },
  {
   "cell_type": "code",
   "execution_count": 2,
   "metadata": {},
   "outputs": [
    {
     "name": "stdout",
     "output_type": "stream",
     "text": [
      "Reading lines...\n",
      "Input vocab size: 59\n",
      "Reading lines...\n",
      "Output vocab size: 59\n"
     ]
    }
   ],
   "source": [
    "# read the data from file\n",
    "lang_src = \"x\"\n",
    "lang_tar = \"en\"\n",
    "wc_type = \"CHAR\" # or 'WORD'\n",
    "\n",
    "# source language\n",
    "input_data = readLangData(lang_src)\n",
    "input_lang = Lang(lang_src, wc_type)\n",
    "for sentence in input_data:\n",
    "    input_lang.addSentence(sentence)\n",
    "\n",
    "input_vocab_size = len(input_lang.wc2index)\n",
    "print(\"Input vocab size: %s\" % (input_vocab_size))\n",
    "\n",
    "# target language\n",
    "output_data = readLangData(lang_tar)\n",
    "output_lang = Lang(lang_tar, wc_type)\n",
    "for sentence in output_data:\n",
    "    output_lang.addSentence(sentence)\n",
    "\n",
    "output_vocab_size = len(output_lang.wc2index)\n",
    "print(\"Output vocab size: %s\" % (output_vocab_size))\n"
   ]
  },
  {
   "cell_type": "code",
   "execution_count": 3,
   "metadata": {
    "collapsed": true
   },
   "outputs": [],
   "source": [
    "# config for network\n",
    "input_embedding_dim = 16\n",
    "output_embedding_dim = 16  # can be different then input\n",
    "\n",
    "# as each timestep will produce probability across the whole vocab of output lang \n",
    "# and the best or beam search can help select one of them\n",
    "output_size = output_vocab_size\n",
    "\n",
    "# hidden dim of both the encoder and decoder need to be same as\n",
    "# final hidden output of encoder is initial hidden input of decoder\n",
    "hidden_dim = 256"
   ]
  },
  {
   "cell_type": "code",
   "execution_count": 4,
   "metadata": {
    "collapsed": true
   },
   "outputs": [],
   "source": [
    "# rnns\n",
    "lstm_gru = 'GRU' # or 'LSTM'\n",
    "# encoder\n",
    "encoder_model = EncoderRNN(input_vocab_size, input_embedding_dim, hidden_dim, lstm_gru)\n",
    "\n",
    "# decoder w/o attn\n",
    "#decoder_model = DecoderRNN(output_vocab_size, output_embedding_dim, hidden_dim, output_size, lstm_gru)\n",
    "\n",
    "# decode w/ attn\n",
    "max_length =  input_lang.max_length # max attn length = max length of input seq\n",
    "decoder_attn_model = AttnDecoderRNN(hidden_dim, output_vocab_size, max_length)"
   ]
  },
  {
   "cell_type": "code",
   "execution_count": 5,
   "metadata": {
    "collapsed": true
   },
   "outputs": [],
   "source": [
    "## input & output sentence variable pair\n",
    "pairs = []\n",
    "for i in range(len(input_data)):\n",
    "    pairs.append((\n",
    "        input_lang.variableFromSentence(input_data[i]),\n",
    "        output_lang.variableFromSentence(output_data[i]),\n",
    "        input_data[i],\n",
    "        output_data[i]\n",
    "    ))"
   ]
  },
  {
   "cell_type": "code",
   "execution_count": 6,
   "metadata": {
    "scrolled": false
   },
   "outputs": [
    {
     "name": "stdout",
     "output_type": "stream",
     "text": [
      "3m 46s (- 166m 5s) (1000 2%) 2.1812\n",
      "7m 37s (- 163m 52s) (2000 4%) 1.8012\n",
      "11m 56s (- 167m 9s) (3000 6%) 1.6732\n",
      "15m 55s (- 163m 11s) (4000 8%) 1.5696\n",
      "19m 58s (- 159m 45s) (5000 11%) 1.5008\n",
      "25m 14s (- 164m 2s) (6000 13%) 1.4598\n",
      "30m 1s (- 162m 59s) (7000 15%) 1.4046\n",
      "33m 34s (- 155m 17s) (8000 17%) 1.3856\n",
      "37m 27s (- 149m 48s) (9000 20%) 1.3409\n",
      "40m 54s (- 143m 10s) (10000 22%) 1.2928\n",
      "44m 29s (- 137m 31s) (11000 24%) 1.2647\n",
      "48m 7s (- 132m 21s) (12000 26%) 1.2354\n",
      "51m 56s (- 127m 50s) (13000 28%) 1.2335\n",
      "55m 29s (- 122m 52s) (14000 31%) 1.1943\n",
      "59m 7s (- 118m 14s) (15000 33%) 1.1556\n",
      "62m 38s (- 113m 32s) (16000 35%) 1.1277\n",
      "66m 6s (- 108m 53s) (17000 37%) 1.1115\n",
      "69m 36s (- 104m 25s) (18000 40%) 1.0716\n",
      "73m 6s (- 100m 2s) (19000 42%) 1.0421\n",
      "76m 35s (- 95m 44s) (20000 44%) 1.0329\n",
      "80m 2s (- 91m 29s) (21000 46%) 1.0068\n",
      "83m 32s (- 87m 20s) (22000 48%) 1.0026\n",
      "86m 59s (- 83m 12s) (23000 51%) 0.9587\n",
      "90m 49s (- 79m 28s) (24000 53%) 0.9575\n",
      "94m 21s (- 75m 29s) (25000 55%) 0.9514\n",
      "97m 45s (- 71m 25s) (26000 57%) 0.9352\n",
      "101m 9s (- 67m 26s) (27000 60%) 0.9109\n",
      "104m 36s (- 63m 30s) (28000 62%) 0.9144\n",
      "108m 8s (- 59m 40s) (29000 64%) 0.9316\n",
      "111m 52s (- 55m 56s) (30000 66%) 0.9058\n",
      "115m 43s (- 52m 15s) (31000 68%) 0.9201\n",
      "119m 16s (- 48m 27s) (32000 71%) 0.9103\n",
      "122m 47s (- 44m 38s) (33000 73%) 0.8956\n",
      "126m 12s (- 40m 49s) (34000 75%) 0.9137\n",
      "129m 41s (- 37m 3s) (35000 77%) 0.9220\n",
      "133m 7s (- 33m 16s) (36000 80%) 0.9145\n",
      "136m 37s (- 29m 32s) (37000 82%) 0.9312\n",
      "140m 4s (- 25m 48s) (38000 84%) 0.9297\n",
      "143m 34s (- 22m 5s) (39000 86%) 0.9280\n",
      "147m 4s (- 18m 23s) (40000 88%) 0.9286\n",
      "150m 32s (- 14m 41s) (41000 91%) 0.9423\n",
      "153m 57s (- 10m 59s) (42000 93%) 0.9225\n",
      "157m 23s (- 7m 19s) (43000 95%) 0.9619\n",
      "161m 14s (- 3m 39s) (44000 97%) 0.9658\n",
      "165m 7s (- 0m 0s) (45000 100%) 0.9742\n"
     ]
    }
   ],
   "source": [
    "# train params\n",
    "n_iters = 45000\n",
    "plot_every=100\n",
    "print_every=1000\n",
    "learning_rate=0.005\n",
    "\n",
    "# decoder rnn w/o attn\n",
    "#plot_losses = trainIters(encoder_model, decoder_model, pairs[:2000], n_iters, print_every, plot_every, learning_rate)\n",
    "#evaluateRandomly(encoder_model, decoder_model, pairs[2000:], output_lang)\n",
    "\n",
    "# decoder rnn w/ attn\n",
    "plot_losses = trainItersAttn(encoder_model, decoder_attn_model, pairs[:2000], \n",
    "                             n_iters, max_length, print_every, plot_every, learning_rate)\n",
    "\n",
    "\n"
   ]
  },
  {
   "cell_type": "code",
   "execution_count": 7,
   "metadata": {
    "scrolled": false
   },
   "outputs": [
    {
     "data": {
      "text/plain": [
       "<matplotlib.figure.Figure at 0x1071def98>"
      ]
     },
     "metadata": {},
     "output_type": "display_data"
    },
    {
     "data": {
      "image/png": "[encoded data removed]",
      "text/plain": [
       "<matplotlib.figure.Figure at 0x108687198>"
      ]
     },
     "metadata": {},
     "output_type": "display_data"
    }
   ],
   "source": [
    "%matplotlib inline\n",
    "\n",
    "import matplotlib\n",
    "import numpy as np\n",
    "import matplotlib.pyplot as plt\n",
    "import matplotlib.ticker as ticker\n",
    "\n",
    "def showPlot(points):\n",
    "    plt.figure()\n",
    "    fig, ax = plt.subplots()\n",
    "    # this locator puts ticks at regular intervals\n",
    "    loc = ticker.MultipleLocator(base=0.2)\n",
    "    ax.yaxis.set_major_locator(loc)\n",
    "    plt.plot(points)\n",
    "#print(plot_losses)\n",
    "showPlot(plot_losses)"
   ]
  },
  {
   "cell_type": "code",
   "execution_count": 23,
   "metadata": {
    "scrolled": false
   },
   "outputs": [
    {
     "name": "stdout",
     "output_type": "stream",
     "text": [
      "> rwc!u e4u5t w? x]5 rwc! 4u -w?’ 4u 4-- c5;5c5?75u xw scw%57x ’6x5?e5c’\n",
      "= works based on the work as long as all references to project gutenberg\n",
      "< wonder what was coming in a her first seemed to say .<EOS>\n",
      "\n",
      "> tw5u ?wx 4’c55 xw x]5 x5c:u w; x]5 ;6-- scw%57x ’6x5?e5c’ 1 x:\n",
      "= does not agree to the terms of the full project gutenberg - tm\n",
      "< do you know , the used to say whet you manage to see the other side of what<EOS>\n",
      "\n",
      "> efctu 4?t e54uxu $ 4u r5-- 4u x]5 r]w-5 s47! w; 74ctu p x]5 !?4/5 r4u\n",
      "= birds and beasts , as well as the whole pack of cards : the knave was\n",
      "< by the other side of what ? the duchess to have of the sea .<EOS>\n",
      "\n",
      "> _?wx]f?’ r]4x5/5c k ” s5cufux5t x]5 !f?’ q\n",
      "= ‘nothing whatever ? ’ persisted the king .\n",
      "< ‘now ! ’ said the caterpillar .<EOS>\n",
      "\n",
      "> %6ux e5’f??f?’ xw rcfx5 x]fu twr? w? x]5fc u-4x5u $ r]5? x]5 r]fx5 c4eefx\n",
      "= just beginning to write this down on their slates , when the white rabbit\n",
      "< just by the himber was in a long and looked at on the same to happen whether she finis\n",
      "\n",
      "> ]54t f? x]5 -4s w; ]5c ufux5c $ r]w r4u ’5?x-[ ec6u]f?’ 4r4[ uw:5 t54t\n",
      "= head in the lap of her sister , who was gently brushing away some dead\n",
      "< he would not alice to see it was opened the little golden key , we all or<EOS>\n",
      "\n",
      "> 4ew6x fx q ” z x]5 %6c[ 4-- -ww!5t s6‘‘-5t q d\n",
      "= about it . ’ ( the jury all looked puzzled . )\n",
      "< about the caterpillar .<EOS>\n",
      "\n",
      "> 7w?;6uf?’ x]f?’ f 5/5c ]54ct # ”\n",
      "= confusing thing i ever heard ! ’\n",
      "< conse don’t see end ! ’<EOS>\n",
      "\n",
      "> x]w6’] x]5[ r5c5 :f?5 e5;wc5 q\n",
      "= though they were mine before .\n",
      "< thought sometimes first .<EOS>\n",
      "\n",
      "> _f; [w6 tft?”x uf’? fx $ ” u4ft x]5 !f?’ $ _x]4x w?-[ :4!5u x]5 :4xx5c\n",
      "= ‘if you didn’t sign it , ’ said the king , ‘that only makes the matter\n",
      "< ‘if you won’t you , will you , won’t you , will you , won’t you , will you , won’t you\n",
      "\n"
     ]
    }
   ],
   "source": [
    "#evaluateRandomly(encoder_model, decoder_model, pairs[2000:], output_lang)\n",
    "evaluateRandomlyAttn(encoder_model, decoder_attn_model, pairs[2000:], output_lang, max_length)"
   ]
  }
 ],
 "metadata": {
  "kernelspec": {
   "display_name": "Python 3",
   "language": "python",
   "name": "python3"
  },
  "language_info": {
   "codemirror_mode": {
    "name": "ipython",
    "version": 3
   },
   "file_extension": ".py",
   "mimetype": "text/x-python",
   "name": "python",
   "nbconvert_exporter": "python",
   "pygments_lexer": "ipython3",
   "version": "3.6.1"
  }
 },
 "nbformat": 4,
 "nbformat_minor": 1
}
